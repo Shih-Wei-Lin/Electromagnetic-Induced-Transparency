{
 "cells": [
  {
   "cell_type": "code",
   "execution_count": 9,
   "metadata": {},
   "outputs": [],
   "source": [
    "import matplotlib.pyplot as plt\n",
    "import numpy as np\n",
    "from qutip import *\n",
    "def ham( delta_c,delta_p,Omega_c,Omega_p,chi,kappa,gamma) :\n",
    "    N = 8\n",
    "    g =basis(2,0)\n",
    "    e = basis(2,1)\n",
    "#     term1 = tensor( Qobj( np.diag([1,0])), Qobj( np.diag( -(delta_c+2*chi)*np.linspace(0,N,N+1))))\n",
    "#     term2 = tensor( Qobj( np.diag([0,1])), Qobj( np.diag( -delta_p-delta_c*(np.linspace(0,N,N+1)-1))))\n",
    "#     term3 = tensor( Qobj( np.diag([0,1])), Qobj( np.diag( (np.linspace(1,N,N))**0.5, k=-1))) * Omega_c/2\n",
    "#     temp = np.zeros((N+1,N+1))\n",
    "#     temp[1, 0] = 1\n",
    "#     term4 = tensor( Qobj( np.diag([1], k=-1)), Qobj(temp)) * Omega_p/2\n",
    "#     H = term1 + term2 + term3 + term4 + (term3+term4).dag()\n",
    "    H = (delta_c+2*chi)*tensor(g*g.dag(),num(N))\\\n",
    "     -delta_p*tensor(e*e.dag( ) , qeye(N) )\\\n",
    "    -delta_c *tensor(e*e.dag(),num(N))\\\n",
    "    +delta_c*tensor(e*e.dag(),qeye(N))\\\n",
    "    +(Omega_c/2)*tensor(e*e.dag(),create(N))\\\n",
    "    +(Omega_p/2)*tensor(create(2),create(N))\\\n",
    "    +(Omega_c/2)*tensor(e*e.dag(),destroy(N))\\\n",
    "    +(Omega_p/2)*tensor(destroy(2),destroy(N))\n",
    "    p_1=tensor(qeye(2),destroy(N))*np.sqrt(kappa)\n",
    "    p_2=tensor(destroy(2),qeye(N))*np.sqrt(gamma)\n",
    "    return H,[p_1,p_2,]\n",
    "def run():\n",
    "    N = 50\n",
    "    M = 50\n",
    "    e_pop = np.zeros([N,M])\n",
    "    chi = 4*2*np.pi\n",
    "    delta_p = np.linspace(-20*2*np.pi, 20*2*np.pi,N+1)\n",
    "    delta_c = np.linspace(-20*2*np.pi,20*2*np.pi, M+1)\n",
    "    Omega_p = 1*2*np.pi\n",
    "    Omega_c = 5*2*np.pi\n",
    "    kappa = 2.9*2*np.pi\n",
    "    gamma = 0.1*2*np.pi\n",
    "    nq=destroy(2)\n",
    "    mq=nq.dag()*nq\n",
    "    print(mq)\n",
    "    for i in range (N) :\n",
    "        print(i)\n",
    "        for j in range (M) :\n",
    "            H,c_op_list=ham(delta_p[j],delta_c[i],\n",
    "            Omega_p,Omega_c,chi,kappa,gamma)\n",
    "            result= steadystate(H,c_op_list,solver='scipy')\n",
    "            #print(result)\n",
    "            e_pop[j,i] =expect(mq,ptrace(result,0))\n",
    "    plt.figure(figsize=(15,6))\n",
    "    plt.subplot(121)\n",
    "    plt.pcolor(delta_p/(2*np.pi) ,\n",
    "    delta_c/(2*np.pi),e_pop, edgecolors='none')\n",
    "    plt.set_cmap( 'RdYlBu_r')\n",
    "    plt.ylabel( r' $\\ Delta_p /\\omega$ ', fontsize =20)\n",
    "    plt.xlabel( r' $\\ Delta_c /\\omega$ ', fontsize =20)\n",
    "    plt.axis( 'tight' )\n",
    "    plt.title('Excitation probabilty of qubit,insteadystate',fontsize=16)\n",
    "    plt.colorbar()\n",
    "    plt.show( )\n",
    "    plt.subplot(122)\n",
    "    plt.plot(e_pop[25,:])\n",
    "    \n",
    "if __name__ == 'main':\n",
    "    run()"
   ]
  },
  {
   "cell_type": "code",
   "execution_count": 10,
   "metadata": {
    "scrolled": false
   },
   "outputs": [
    {
     "name": "stdout",
     "output_type": "stream",
     "text": [
      "Quantum object: dims = [[2], [2]], shape = (2, 2), type = oper, isherm = True\n",
      "Qobj data =\n",
      "[[0. 0.]\n",
      " [0. 1.]]\n",
      "0\n",
      "1\n",
      "2\n",
      "3\n",
      "4\n",
      "5\n",
      "6\n",
      "7\n",
      "8\n",
      "9\n",
      "10\n",
      "11\n",
      "12\n",
      "13\n",
      "14\n",
      "15\n",
      "16\n",
      "17\n",
      "18\n",
      "19\n",
      "20\n",
      "21\n",
      "22\n",
      "23\n",
      "24\n",
      "25\n",
      "26\n",
      "27\n",
      "28\n",
      "29\n",
      "30\n",
      "31\n",
      "32\n",
      "33\n",
      "34\n",
      "35\n",
      "36\n",
      "37\n",
      "38\n",
      "39\n",
      "40\n",
      "41\n",
      "42\n",
      "43\n",
      "44\n",
      "45\n",
      "46\n",
      "47\n",
      "48\n",
      "49\n"
     ]
    },
    {
     "data": {
      "image/png": "[encoded data removed]",
      "text/plain": [
       "<Figure size 1080x432 with 2 Axes>"
      ]
     },
     "metadata": {
      "needs_background": "light"
     },
     "output_type": "display_data"
    },
    {
     "data": {
      "image/png": "[encoded data removed]",
      "text/plain": [
       "<Figure size 432x288 with 1 Axes>"
      ]
     },
     "metadata": {
      "needs_background": "light"
     },
     "output_type": "display_data"
    }
   ],
   "source": [
    "run()"
   ]
  },
  {
   "cell_type": "code",
   "execution_count": 46,
   "metadata": {},
   "outputs": [
    {
     "name": "stdout",
     "output_type": "stream",
     "text": [
      "Quantum object: dims = [[2], [2]], shape = (2, 2), type = oper, isherm = True\n",
      "Qobj data =\n",
      "[[0. 0.]\n",
      " [0. 1.]]\n",
      "0\n",
      "1\n",
      "2\n",
      "3\n",
      "4\n",
      "5\n",
      "6\n",
      "7\n",
      "8\n",
      "9\n",
      "10\n",
      "11\n",
      "12\n",
      "13\n",
      "14\n",
      "15\n",
      "16\n",
      "17\n",
      "18\n",
      "19\n",
      "20\n",
      "21\n",
      "22\n",
      "23\n",
      "24\n",
      "25\n",
      "26\n",
      "27\n",
      "28\n",
      "29\n",
      "30\n",
      "31\n",
      "32\n",
      "33\n",
      "34\n",
      "35\n",
      "36\n",
      "37\n",
      "38\n",
      "39\n"
     ]
    },
    {
     "data": {
      "image/png": "[encoded data removed]",
      "text/plain": [
       "<Figure size 720x720 with 2 Axes>"
      ]
     },
     "metadata": {
      "needs_background": "light"
     },
     "output_type": "display_data"
    }
   ],
   "source": [
    "N = 40\n",
    "M = 40\n",
    "e_pop = np.zeros([N,M])\n",
    "chi = -4.1*2*np.pi\n",
    "delta_p = np.linspace(-20*2*np.pi, 20*2*np.pi,N+1)\n",
    "delta_c = 0\n",
    "Omega_p = 2*2*np.pi\n",
    "Omega_c = np.linspace(1*2*np.pi,20*2*np.pi, M+1)\n",
    "kappa = 2.5*2*np.pi\n",
    "gamma = 0.1*2*np.pi\n",
    "nq=destroy(2)\n",
    "mq=nq.dag()*nq\n",
    "print(mq)\n",
    "for i in range (N) :\n",
    "    print(i)\n",
    "    for j in range (M) :\n",
    "        H,c_op_list=ham(delta_p[i],delta_c,\n",
    "        Omega_p,Omega_c[j],chi,kappa,gamma)\n",
    "        result= steadystate(H,c_op_list,solver='scipy')\n",
    "        #print(result)\n",
    "        e_pop[j,i] =result[0, 0].real#expect(mq,ptrace(result,0))\n",
    "fig,ax=plt.subplots(figsize=(10,10))\n",
    "p = ax.pcolor(np.linspace(-20,20,N+1) ,\n",
    "np.linspace(1,20,M+1),e_pop, edgecolors='none')\n",
    "p.set_cmap( 'RdYlBu_r')\n",
    "ax.set_ylabel( r' $\\ Delta_p /\\omega$ ', fontsize =20)\n",
    "ax.set_xlabel( r' $\\ Delta_c /\\omega$ ', fontsize =20)\n",
    "ax.axis( 'tight' )\n",
    "ax.set_title('Excitation probabilty of qubit,insteadystate',fontsize=16)\n",
    "plt.colorbar(p)\n",
    "plt.show( )"
   ]
  },
  {
   "cell_type": "code",
   "execution_count": 48,
   "metadata": {},
   "outputs": [
    {
     "data": {
      "text/plain": [
       "[<matplotlib.lines.Line2D at 0x210d82a2b50>]"
      ]
     },
     "execution_count": 48,
     "metadata": {},
     "output_type": "execute_result"
    },
    {
     "data": {
      "image/png": "[encoded data removed]",
      "text/plain": [
       "<Figure size 432x288 with 1 Axes>"
      ]
     },
     "metadata": {
      "needs_background": "light"
     },
     "output_type": "display_data"
    }
   ],
   "source": [
    "plt.plot(e_pop[20,:])"
   ]
  },
  {
   "cell_type": "code",
   "execution_count": 28,
   "metadata": {},
   "outputs": [
    {
     "data": {
      "text/plain": [
       "array([0.64122523, 0.46246633, 0.58344169, 0.50523505, 0.42558464,\n",
       "       0.33964274, 0.24973101, 0.16251416, 0.08657575, 0.03529377,\n",
       "       0.01816633, 0.03846596, 0.09131641, 0.16583777, 0.24943783,\n",
       "       0.3309395 , 0.40052995, 0.44427265, 0.43296291, 0.37680361])"
      ]
     },
     "execution_count": 28,
     "metadata": {},
     "output_type": "execute_result"
    }
   ],
   "source": [
    "e_pop[1,:]"
   ]
  },
  {
   "cell_type": "code",
   "execution_count": 27,
   "metadata": {},
   "outputs": [
    {
     "name": "stdout",
     "output_type": "stream",
     "text": [
      "Help on function steadystate in module qutip.steadystate:\n",
      "\n",
      "steadystate(A, c_op_list=[], method='direct', solver=None, **kwargs)\n",
      "    Calculates the steady state for quantum evolution subject to the supplied\n",
      "    Hamiltonian or Liouvillian operator and (if given a Hamiltonian) a list of\n",
      "    collapse operators.\n",
      "    \n",
      "    If the user passes a Hamiltonian then it, along with the list of collapse\n",
      "    operators, will be converted into a Liouvillian operator in Lindblad form.\n",
      "    \n",
      "    Parameters\n",
      "    ----------\n",
      "    A : :obj:`~Qobj`\n",
      "        A Hamiltonian or Liouvillian operator.\n",
      "    \n",
      "    c_op_list : list\n",
      "        A list of collapse operators.\n",
      "    \n",
      "    solver : {'scipy', 'mkl'}, optional\n",
      "        Selects the sparse solver to use.  Default is to auto-select based on\n",
      "        the availability of the MKL library.\n",
      "    \n",
      "    method : str, default 'direct'\n",
      "        The allowed methods are\n",
      "    \n",
      "        - 'direct'\n",
      "        - 'eigen'\n",
      "        - 'iterative-gmres'\n",
      "        - 'iterative-lgmres'\n",
      "        - 'iterative-bicgstab'\n",
      "        - 'svd'\n",
      "        - 'power'\n",
      "        - 'power-gmres'\n",
      "        - 'power-lgmres'\n",
      "        - 'power-bicgstab'\n",
      "    \n",
      "        Method for solving the underlying linear equation. Direct LU solver\n",
      "        'direct' (default), sparse eigenvalue problem 'eigen', iterative GMRES\n",
      "        method 'iterative-gmres', iterative LGMRES method 'iterative-lgmres',\n",
      "        iterative BICGSTAB method 'iterative-bicgstab', SVD 'svd' (dense), or\n",
      "        inverse-power method 'power'. The iterative power methods\n",
      "        'power-gmres', 'power-lgmres', 'power-bicgstab' use the same solvers as\n",
      "        their direct counterparts.\n",
      "    \n",
      "    return_info : bool, default False\n",
      "        Return a dictionary of solver-specific infomation about the solution\n",
      "        and how it was obtained.\n",
      "    \n",
      "    sparse : bool, default True\n",
      "        Solve for the steady state using sparse algorithms. If set to False,\n",
      "        the underlying Liouvillian operator will be converted into a dense\n",
      "        matrix. Use only for 'smaller' systems.\n",
      "    \n",
      "    use_rcm : bool, default False\n",
      "        Use reverse Cuthill-Mckee reordering to minimize fill-in in the LU\n",
      "        factorization of the Liouvillian.\n",
      "    \n",
      "    use_wbm : bool, default False\n",
      "        Use Weighted Bipartite Matching reordering to make the Liouvillian\n",
      "        diagonally dominant.  This is useful for iterative preconditioners\n",
      "        only, and is set to ``True`` by default when finding a preconditioner.\n",
      "    \n",
      "    weight : float, optional\n",
      "        Sets the size of the elements used for adding the unity trace condition\n",
      "        to the linear solvers.  This is set to the average abs value of the\n",
      "        Liouvillian elements if not specified by the user.\n",
      "    \n",
      "    max_iter_refine : int, default 10\n",
      "        MKL ONLY. Max. number of iterative refinements to perform.\n",
      "    \n",
      "    scaling_vectors : bool\n",
      "        MKL ONLY.  Scale matrix to unit norm columns and rows.\n",
      "    \n",
      "    weighted_matching : bool\n",
      "        MKL ONLY.  Use weighted matching to better condition diagonal.\n",
      "    \n",
      "    x0 : ndarray, optional\n",
      "        ITERATIVE ONLY. Initial guess for solution vector.\n",
      "    \n",
      "    maxiter : int, default 1000\n",
      "        ITERATIVE ONLY. Maximum number of iterations to perform.\n",
      "    \n",
      "    tol : float, default 1e-12\n",
      "        ITERATIVE ONLY. Tolerance used for terminating solver.\n",
      "    \n",
      "    mtol : float, optional\n",
      "        ITERATIVE 'power' methods ONLY. Tolerance for lu solve method.  If None\n",
      "        given then ``max(0.1*tol, 1e-15)`` is used.\n",
      "    \n",
      "    matol : float, default 1e-15\n",
      "        ITERATIVE ONLY. Absolute tolerance for lu solve method.\n",
      "    \n",
      "    permc_spec : str, optional\n",
      "        ITERATIVE ONLY. Column ordering used internally by superLU for the\n",
      "        'direct' LU decomposition method. Options include 'COLAMD' (default)\n",
      "        and 'NATURAL'. If using RCM then this is set to 'NATURAL' automatically\n",
      "        unless explicitly specified.\n",
      "    \n",
      "    use_precond : bool, default False\n",
      "        ITERATIVE ONLY. Use an incomplete sparse LU decomposition as a\n",
      "        preconditioner for the 'iterative' GMRES and BICG solvers.  Speeds up\n",
      "        convergence time by orders of magnitude in many cases.\n",
      "    \n",
      "    M : {sparse matrix, dense matrix, LinearOperator}, optional\n",
      "        ITERATIVE ONLY. Preconditioner for A. The preconditioner should\n",
      "        approximate the inverse of A. Effective preconditioning can\n",
      "        dramatically improve the rate of convergence for iterative methods.\n",
      "        If no preconditioner is given and ``use_precond = True``, then one\n",
      "        is generated automatically.\n",
      "    \n",
      "    fill_factor : float, default 100\n",
      "        ITERATIVE ONLY. Specifies the fill ratio upper bound (>=1) of the iLU\n",
      "        preconditioner.  Lower values save memory at the cost of longer\n",
      "        execution times and a possible singular factorization.\n",
      "    \n",
      "    drop_tol : float, default 1e-4\n",
      "        ITERATIVE ONLY. Sets the threshold for the magnitude of preconditioner\n",
      "        elements that should be dropped.  Can be reduced for a courser\n",
      "        factorization at the cost of an increased number of iterations, and a\n",
      "        possible singular factorization.\n",
      "    \n",
      "    diag_pivot_thresh : float, optional\n",
      "        ITERATIVE ONLY. Sets the threshold between [0,1] for which diagonal\n",
      "        elements are considered acceptable pivot points when using a\n",
      "        preconditioner.  A value of zero forces the pivot to be the diagonal\n",
      "        element.\n",
      "    \n",
      "    ILU_MILU : str, default 'smilu_2'\n",
      "        ITERATIVE ONLY. Selects the incomplete LU decomposition method algoithm\n",
      "        used in creating the preconditoner. Should only be used by advanced\n",
      "        users.\n",
      "    \n",
      "    Returns\n",
      "    -------\n",
      "    dm : qobj\n",
      "        Steady state density matrix.\n",
      "    info : dict, optional\n",
      "        Dictionary containing solver-specific information about the solution.\n",
      "    \n",
      "    Notes\n",
      "    -----\n",
      "    The SVD method works only for dense operators (i.e. small systems).\n",
      "\n"
     ]
    }
   ],
   "source": [
    "help(steadystate)"
   ]
  },
  {
   "cell_type": "code",
   "execution_count": null,
   "metadata": {},
   "outputs": [],
   "source": []
  }
 ],
 "metadata": {
  "kernelspec": {
   "display_name": "Python 3",
   "language": "python",
   "name": "python3"
  },
  "language_info": {
   "codemirror_mode": {
    "name": "ipython",
    "version": 3
   },
   "file_extension": ".py",
   "mimetype": "text/x-python",
   "name": "python",
   "nbconvert_exporter": "python",
   "pygments_lexer": "ipython3",
   "version": "3.8.5"
  }
 },
 "nbformat": 4,
 "nbformat_minor": 4
}
